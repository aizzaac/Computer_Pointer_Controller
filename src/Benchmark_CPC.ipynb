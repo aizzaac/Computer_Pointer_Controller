{
 "cells": [
  {
   "cell_type": "markdown",
   "metadata": {},
   "source": [
    "# Benchmark\n",
    "\n",
    "### This file shows the following results:\n",
    "#### * Frames per second\n",
    "#### * Total inference time (s)\n",
    "#### * Total model load time (s)\n",
    "\n",
    "##### *** These values can also be viewed in the .log files.\n",
    "\n"
   ]
  },
  {
   "cell_type": "markdown",
   "metadata": {},
   "source": [
    "### Parsing applied:\n",
    "\n",
    "#### FP32\n",
    "##### python3 src/main.py -fd models/face-detection-adas-0001/FP32/face-detection-adas-0001.xml -hp models/head-pose-estimation-adas-0001/FP32/head-pose-estimation-adas-0001.xml -fl models/landmarks-regression-retail-0009/FP32/landmarks-regression-retail-0009.xml -ge models/gaze-estimation-adas-0002/FP32/gaze-estimation-adas-0002.xml -i bin/demo.mp4 -d \"CPU\" -o \"result/FP32\" -v \"YES\"\n",
    "\n",
    "\n",
    "\n",
    "#### FP16\n",
    "##### python3 src/main.py -fd models/face-detection-adas-0001/FP16/face-detection-adas-0001.xml -hp models/head-pose-estimation-adas-0001/FP16/head-pose-estimation-adas-0001.xml -fl models/landmarks-regression-retail-0009/FP16/landmarks-regression-retail-0009.xml -ge models/gaze-estimation-adas-0002/FP16/gaze-estimation-adas-0002.xml -i bin/demo.mp4 -d \"CPU\" -o \"result/FP16\" -v \"YES\"\n",
    "\n",
    "\n",
    "\n",
    "#### FP16-INT8\n",
    "##### python3 src/main.py -fd models/face-detection-adas-0001/FP16-INT8/face-detection-adas-0001.xml -hp models/head-pose-estimation-adas-0001/FP16-INT8/head-pose-estimation-adas-0001.xml -fl models/landmarks-regression-retail-0009/FP16-INT8/landmarks-regression-retail-0009.xml -ge models/gaze-estimation-adas-0002/FP16-INT8/gaze-estimation-adas-0002.xml -i bin/demo.mp4 -d \"CPU\" -o \"result/FP16-INT8\" -v \"YES\""
   ]
  },
  {
   "cell_type": "code",
   "execution_count": 1,
   "metadata": {},
   "outputs": [],
   "source": [
    "import matplotlib.pyplot as plt\n",
    "\n",
    "precision_list=['FP32', 'FP16', 'FP16-INT8']\n",
    "inference_time=[]\n",
    "fps=[]\n",
    "model_load_time=[]\n",
    "\n",
    "for precision in precision_list:\n",
    "    with open('result/'+ precision + '/stats.txt', 'r') as f:\n",
    "        model_load_time.append(float(f.readline().split(\"\\n\")[0]))\n",
    "        inference_time.append(float(f.readline().split(\"\\n\")[0]))\n",
    "        fps.append(float(f.readline().split(\"\\n\")[0]))"
   ]
  },
  {
   "cell_type": "markdown",
   "metadata": {},
   "source": [
    "### Frames per second"
   ]
  },
  {
   "cell_type": "code",
   "execution_count": 2,
   "metadata": {
    "scrolled": true
   },
   "outputs": [
    {
     "data": {
      "image/png": "[encoded data removed]",
      "text/plain": [
       "<matplotlib.figure.Figure at 0x7fad181be940>"
      ]
     },
     "metadata": {
      "needs_background": "light"
     },
     "output_type": "display_data"
    }
   ],
   "source": [
    "plt.bar(precision_list, fps)\n",
    "plt.xlabel(\"Precision Used\")\n",
    "plt.ylabel(\"Frames per second\")\n",
    "plt.show()"
   ]
  },
  {
   "cell_type": "markdown",
   "metadata": {},
   "source": [
    "### Total inference time (s)"
   ]
  },
  {
   "cell_type": "code",
   "execution_count": 3,
   "metadata": {},
   "outputs": [
    {
     "data": {
      "image/png": "[encoded data removed]",
      "text/plain": [
       "<matplotlib.figure.Figure at 0x7fad181be668>"
      ]
     },
     "metadata": {
      "needs_background": "light"
     },
     "output_type": "display_data"
    }
   ],
   "source": [
    "plt.bar(precision_list, inference_time)\n",
    "plt.xlabel(\"Precision Used\")\n",
    "plt.ylabel(\"Total Inference Time (s)\")\n",
    "plt.show()"
   ]
  },
  {
   "cell_type": "markdown",
   "metadata": {},
   "source": [
    "### Total model load time (s)"
   ]
  },
  {
   "cell_type": "code",
   "execution_count": 4,
   "metadata": {},
   "outputs": [
    {
     "data": {
      "image/png": "[encoded data removed]",
      "text/plain": [
       "<matplotlib.figure.Figure at 0x7facf4fbb6a0>"
      ]
     },
     "metadata": {
      "needs_background": "light"
     },
     "output_type": "display_data"
    }
   ],
   "source": [
    "plt.bar(precision_list, model_load_time)\n",
    "plt.xlabel(\"Precision Used\")\n",
    "plt.ylabel(\"Total load time (s)\")\n",
    "plt.show()"
   ]
  },
  {
   "cell_type": "code",
   "execution_count": null,
   "metadata": {},
   "outputs": [],
   "source": []
  }
 ],
 "metadata": {
  "kernelspec": {
   "display_name": "Python 3",
   "language": "python",
   "name": "python3"
  },
  "language_info": {
   "codemirror_mode": {
    "name": "ipython",
    "version": 3
   },
   "file_extension": ".py",
   "mimetype": "text/x-python",
   "name": "python",
   "nbconvert_exporter": "python",
   "pygments_lexer": "ipython3",
   "version": "3.6.3"
  }
 },
 "nbformat": 4,
 "nbformat_minor": 2
}
